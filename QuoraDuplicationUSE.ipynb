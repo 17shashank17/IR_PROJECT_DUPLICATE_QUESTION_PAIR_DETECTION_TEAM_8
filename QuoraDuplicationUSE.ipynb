{
  "nbformat": 4,
  "nbformat_minor": 0,
  "metadata": {
    "accelerator": "GPU",
    "colab": {
      "name": "QuoraDuplicationUSE.ipynb",
      "provenance": [],
      "collapsed_sections": []
    },
    "kernelspec": {
      "display_name": "Python 3",
      "name": "python3"
    }
  },
  "cells": [
    {
      "cell_type": "code",
      "metadata": {
        "colab": {
          "base_uri": "https://localhost:8080/"
        },
        "id": "fVDKvIrcKKmj",
        "outputId": "fc9d4fad-7836-4ce9-d7eb-74fe75baf22e"
      },
      "source": [
        "from google.colab import drive\n",
        "drive.mount('/content/drive')"
      ],
      "execution_count": null,
      "outputs": [
        {
          "output_type": "stream",
          "text": [
            "Mounted at /content/drive\n"
          ],
          "name": "stdout"
        }
      ]
    },
    {
      "cell_type": "code",
      "metadata": {
        "colab": {
          "base_uri": "https://localhost:8080/"
        },
        "id": "x_qvWnw_y_qX",
        "outputId": "cd9a85d7-b7f0-4076-a33c-2a4fb63fb1b2"
      },
      "source": [
        "ls"
      ],
      "execution_count": null,
      "outputs": [
        {
          "output_type": "stream",
          "text": [
            "\u001b[0m\u001b[01;34mdrive\u001b[0m/  \u001b[01;34msample_data\u001b[0m/\n"
          ],
          "name": "stdout"
        }
      ]
    },
    {
      "cell_type": "code",
      "metadata": {
        "colab": {
          "base_uri": "https://localhost:8080/"
        },
        "id": "ybt8V6ED80Q3",
        "outputId": "ebaf0e5a-b3de-4dd8-c174-207aa830325a"
      },
      "source": [
        "cd /content/drive/\"My Drive\"/\"Colab Notebooks\"/Northout"
      ],
      "execution_count": null,
      "outputs": [
        {
          "output_type": "stream",
          "text": [
            "/content/drive/My Drive/Colab Notebooks/Northout\n"
          ],
          "name": "stdout"
        }
      ]
    },
    {
      "cell_type": "code",
      "metadata": {
        "id": "GoJ-mlI28M1D"
      },
      "source": [
        "import requests\n",
        "\n",
        "r = requests.get(\"http://qim.fs.quoracdn.net/quora_duplicate_questions.tsv\")\n",
        "with open(\"QuoraDuplicationDataset.tsv\", \"wb\") as f:\n",
        "    f.write(r.content)"
      ],
      "execution_count": null,
      "outputs": []
    },
    {
      "cell_type": "code",
      "metadata": {
        "colab": {
          "base_uri": "https://localhost:8080/",
          "height": 544
        },
        "id": "hAQsa9Pw8cWc",
        "outputId": "39e3e9b9-212b-46e0-d5c7-848df0cc8e92"
      },
      "source": [
        "# read dataset\n",
        "\n",
        "import numpy as np\n",
        "import pandas as pd\n",
        "import seaborn as sns\n",
        "import matplotlib.pyplot as plt\n",
        "%matplotlib inline\n",
        "df = pd.read_csv('QuoraDuplicationDataset.tsv', sep = \"\\t\")\n",
        "df.drop(['qid1','qid2'], axis=1, inplace=True)\n",
        "print(df)\n",
        "df.dropna(axis=0, inplace=True)\n",
        "df.groupby(\"is_duplicate\")['id'].count().plot.bar()"
      ],
      "execution_count": null,
      "outputs": [
        {
          "output_type": "stream",
          "text": [
            "            id  ... is_duplicate\n",
            "0            0  ...            0\n",
            "1            1  ...            0\n",
            "2            2  ...            0\n",
            "3            3  ...            0\n",
            "4            4  ...            0\n",
            "...        ...  ...          ...\n",
            "404285  404285  ...            0\n",
            "404286  404286  ...            1\n",
            "404287  404287  ...            0\n",
            "404288  404288  ...            0\n",
            "404289  404289  ...            0\n",
            "\n",
            "[404290 rows x 4 columns]\n"
          ],
          "name": "stdout"
        },
        {
          "output_type": "execute_result",
          "data": {
            "text/plain": [
              "<matplotlib.axes._subplots.AxesSubplot at 0x7f0ed965eb38>"
            ]
          },
          "metadata": {
            "tags": []
          },
          "execution_count": 5
        },
        {
          "output_type": "display_data",
          "data": {
            "image/png": "[encoded data removed]",
            "text/plain": [
              "<Figure size 432x288 with 1 Axes>"
            ]
          },
          "metadata": {
            "tags": []
          }
        }
      ]
    },
    {
      "cell_type": "code",
      "metadata": {
        "id": "5WK9491n8mV5"
      },
      "source": [
        "import pandas as pd\n",
        "import numpy as np\n",
        "import tensorflow as tf\n",
        "import tensorflow_hub as hub\n",
        "import matplotlib.pyplot as plt\n",
        "import numpy as np\n",
        "import os\n",
        "import pandas as pd\n",
        "import re\n",
        "import seaborn as sns\n",
        "import keras.layers as layers\n",
        "from keras.models import Model\n",
        "Model.run_eagerly = True\n",
        "from keras import backend as K\n",
        "np.random.seed(10)"
      ],
      "execution_count": null,
      "outputs": []
    },
    {
      "cell_type": "code",
      "metadata": {
        "colab": {
          "base_uri": "https://localhost:8080/"
        },
        "id": "BiVjPozI8pHi",
        "outputId": "6d44c603-7f79-4d73-ca15-0681cc66e610"
      },
      "source": [
        "import tensorflow as tf\n",
        "import tensorflow_hub as hub\n",
        "# enabling the pretrained model for trainig our custom model using tensorflow hub\n",
        "module_url = \"https://tfhub.dev/google/universal-sentence-encoder-large/3\"\n",
        "embed = hub.KerasLayer(module_url)\n",
        "\n",
        "# creating a method for embedding and will using method for every input layer \n",
        "def UniversalEmbedding(x):\n",
        "    return embed(tf.squeeze(tf.cast(x, tf.string)))"
      ],
      "execution_count": null,
      "outputs": [
        {
          "output_type": "stream",
          "text": [
            "WARNING:tensorflow:Unable to create a python object for variable <tf.Variable 'Embeddings_en/sharded_0:0' shape=(35297, 320) dtype=float32_ref> because it is a reference variable. It may not be visible to training APIs. If this is a problem, consider rebuilding the SavedModel after running tf.compat.v1.enable_resource_variables().\n"
          ],
          "name": "stdout"
        },
        {
          "output_type": "stream",
          "text": [
            "WARNING:tensorflow:Unable to create a python object for variable <tf.Variable 'Embeddings_en/sharded_0:0' shape=(35297, 320) dtype=float32_ref> because it is a reference variable. It may not be visible to training APIs. If this is a problem, consider rebuilding the SavedModel after running tf.compat.v1.enable_resource_variables().\n"
          ],
          "name": "stderr"
        },
        {
          "output_type": "stream",
          "text": [
            "WARNING:tensorflow:Unable to create a python object for variable <tf.Variable 'Embeddings_en/sharded_1:0' shape=(35297, 320) dtype=float32_ref> because it is a reference variable. It may not be visible to training APIs. If this is a problem, consider rebuilding the SavedModel after running tf.compat.v1.enable_resource_variables().\n"
          ],
          "name": "stdout"
        },
        {
          "output_type": "stream",
          "text": [
            "WARNING:tensorflow:Unable to create a python object for variable <tf.Variable 'Embeddings_en/sharded_1:0' shape=(35297, 320) dtype=float32_ref> because it is a reference variable. It may not be visible to training APIs. If this is a problem, consider rebuilding the SavedModel after running tf.compat.v1.enable_resource_variables().\n"
          ],
          "name": "stderr"
        },
        {
          "output_type": "stream",
          "text": [
            "WARNING:tensorflow:Unable to create a python object for variable <tf.Variable 'Embeddings_en/sharded_2:0' shape=(35297, 320) dtype=float32_ref> because it is a reference variable. It may not be visible to training APIs. If this is a problem, consider rebuilding the SavedModel after running tf.compat.v1.enable_resource_variables().\n"
          ],
          "name": "stdout"
        },
        {
          "output_type": "stream",
          "text": [
            "WARNING:tensorflow:Unable to create a python object for variable <tf.Variable 'Embeddings_en/sharded_2:0' shape=(35297, 320) dtype=float32_ref> because it is a reference variable. It may not be visible to training APIs. If this is a problem, consider rebuilding the SavedModel after running tf.compat.v1.enable_resource_variables().\n"
          ],
          "name": "stderr"
        },
        {
          "output_type": "stream",
          "text": [
            "WARNING:tensorflow:Unable to create a python object for variable <tf.Variable 'Embeddings_en/sharded_3:0' shape=(35297, 320) dtype=float32_ref> because it is a reference variable. It may not be visible to training APIs. If this is a problem, consider rebuilding the SavedModel after running tf.compat.v1.enable_resource_variables().\n"
          ],
          "name": "stdout"
        },
        {
          "output_type": "stream",
          "text": [
            "WARNING:tensorflow:Unable to create a python object for variable <tf.Variable 'Embeddings_en/sharded_3:0' shape=(35297, 320) dtype=float32_ref> because it is a reference variable. It may not be visible to training APIs. If this is a problem, consider rebuilding the SavedModel after running tf.compat.v1.enable_resource_variables().\n"
          ],
          "name": "stderr"
        },
        {
          "output_type": "stream",
          "text": [
            "WARNING:tensorflow:Unable to create a python object for variable <tf.Variable 'Embeddings_en/sharded_4:0' shape=(35297, 320) dtype=float32_ref> because it is a reference variable. It may not be visible to training APIs. If this is a problem, consider rebuilding the SavedModel after running tf.compat.v1.enable_resource_variables().\n"
          ],
          "name": "stdout"
        },
        {
          "output_type": "stream",
          "text": [
            "WARNING:tensorflow:Unable to create a python object for variable <tf.Variable 'Embeddings_en/sharded_4:0' shape=(35297, 320) dtype=float32_ref> because it is a reference variable. It may not be visible to training APIs. If this is a problem, consider rebuilding the SavedModel after running tf.compat.v1.enable_resource_variables().\n"
          ],
          "name": "stderr"
        },
        {
          "output_type": "stream",
          "text": [
            "WARNING:tensorflow:Unable to create a python object for variable <tf.Variable 'Embeddings_en/sharded_0:0' shape=(35297, 320) dtype=float32_ref> because it is a reference variable. It may not be visible to training APIs. If this is a problem, consider rebuilding the SavedModel after running tf.compat.v1.enable_resource_variables().\n"
          ],
          "name": "stdout"
        },
        {
          "output_type": "stream",
          "text": [
            "WARNING:tensorflow:Unable to create a python object for variable <tf.Variable 'Embeddings_en/sharded_0:0' shape=(35297, 320) dtype=float32_ref> because it is a reference variable. It may not be visible to training APIs. If this is a problem, consider rebuilding the SavedModel after running tf.compat.v1.enable_resource_variables().\n"
          ],
          "name": "stderr"
        },
        {
          "output_type": "stream",
          "text": [
            "WARNING:tensorflow:Unable to create a python object for variable <tf.Variable 'Embeddings_en/sharded_1:0' shape=(35297, 320) dtype=float32_ref> because it is a reference variable. It may not be visible to training APIs. If this is a problem, consider rebuilding the SavedModel after running tf.compat.v1.enable_resource_variables().\n"
          ],
          "name": "stdout"
        },
        {
          "output_type": "stream",
          "text": [
            "WARNING:tensorflow:Unable to create a python object for variable <tf.Variable 'Embeddings_en/sharded_1:0' shape=(35297, 320) dtype=float32_ref> because it is a reference variable. It may not be visible to training APIs. If this is a problem, consider rebuilding the SavedModel after running tf.compat.v1.enable_resource_variables().\n"
          ],
          "name": "stderr"
        },
        {
          "output_type": "stream",
          "text": [
            "WARNING:tensorflow:Unable to create a python object for variable <tf.Variable 'Embeddings_en/sharded_2:0' shape=(35297, 320) dtype=float32_ref> because it is a reference variable. It may not be visible to training APIs. If this is a problem, consider rebuilding the SavedModel after running tf.compat.v1.enable_resource_variables().\n"
          ],
          "name": "stdout"
        },
        {
          "output_type": "stream",
          "text": [
            "WARNING:tensorflow:Unable to create a python object for variable <tf.Variable 'Embeddings_en/sharded_2:0' shape=(35297, 320) dtype=float32_ref> because it is a reference variable. It may not be visible to training APIs. If this is a problem, consider rebuilding the SavedModel after running tf.compat.v1.enable_resource_variables().\n"
          ],
          "name": "stderr"
        },
        {
          "output_type": "stream",
          "text": [
            "WARNING:tensorflow:Unable to create a python object for variable <tf.Variable 'Embeddings_en/sharded_3:0' shape=(35297, 320) dtype=float32_ref> because it is a reference variable. It may not be visible to training APIs. If this is a problem, consider rebuilding the SavedModel after running tf.compat.v1.enable_resource_variables().\n"
          ],
          "name": "stdout"
        },
        {
          "output_type": "stream",
          "text": [
            "WARNING:tensorflow:Unable to create a python object for variable <tf.Variable 'Embeddings_en/sharded_3:0' shape=(35297, 320) dtype=float32_ref> because it is a reference variable. It may not be visible to training APIs. If this is a problem, consider rebuilding the SavedModel after running tf.compat.v1.enable_resource_variables().\n"
          ],
          "name": "stderr"
        },
        {
          "output_type": "stream",
          "text": [
            "WARNING:tensorflow:Unable to create a python object for variable <tf.Variable 'Embeddings_en/sharded_4:0' shape=(35297, 320) dtype=float32_ref> because it is a reference variable. It may not be visible to training APIs. If this is a problem, consider rebuilding the SavedModel after running tf.compat.v1.enable_resource_variables().\n"
          ],
          "name": "stdout"
        },
        {
          "output_type": "stream",
          "text": [
            "WARNING:tensorflow:Unable to create a python object for variable <tf.Variable 'Embeddings_en/sharded_4:0' shape=(35297, 320) dtype=float32_ref> because it is a reference variable. It may not be visible to training APIs. If this is a problem, consider rebuilding the SavedModel after running tf.compat.v1.enable_resource_variables().\n"
          ],
          "name": "stderr"
        },
        {
          "output_type": "stream",
          "text": [
            "WARNING:tensorflow:Unable to create a python object for variable <tf.Variable 'Embeddings_en/sharded_0:0' shape=(35297, 320) dtype=float32_ref> because it is a reference variable. It may not be visible to training APIs. If this is a problem, consider rebuilding the SavedModel after running tf.compat.v1.enable_resource_variables().\n"
          ],
          "name": "stdout"
        },
        {
          "output_type": "stream",
          "text": [
            "WARNING:tensorflow:Unable to create a python object for variable <tf.Variable 'Embeddings_en/sharded_0:0' shape=(35297, 320) dtype=float32_ref> because it is a reference variable. It may not be visible to training APIs. If this is a problem, consider rebuilding the SavedModel after running tf.compat.v1.enable_resource_variables().\n"
          ],
          "name": "stderr"
        },
        {
          "output_type": "stream",
          "text": [
            "WARNING:tensorflow:Unable to create a python object for variable <tf.Variable 'Embeddings_en/sharded_1:0' shape=(35297, 320) dtype=float32_ref> because it is a reference variable. It may not be visible to training APIs. If this is a problem, consider rebuilding the SavedModel after running tf.compat.v1.enable_resource_variables().\n"
          ],
          "name": "stdout"
        },
        {
          "output_type": "stream",
          "text": [
            "WARNING:tensorflow:Unable to create a python object for variable <tf.Variable 'Embeddings_en/sharded_1:0' shape=(35297, 320) dtype=float32_ref> because it is a reference variable. It may not be visible to training APIs. If this is a problem, consider rebuilding the SavedModel after running tf.compat.v1.enable_resource_variables().\n"
          ],
          "name": "stderr"
        },
        {
          "output_type": "stream",
          "text": [
            "WARNING:tensorflow:Unable to create a python object for variable <tf.Variable 'Embeddings_en/sharded_2:0' shape=(35297, 320) dtype=float32_ref> because it is a reference variable. It may not be visible to training APIs. If this is a problem, consider rebuilding the SavedModel after running tf.compat.v1.enable_resource_variables().\n"
          ],
          "name": "stdout"
        },
        {
          "output_type": "stream",
          "text": [
            "WARNING:tensorflow:Unable to create a python object for variable <tf.Variable 'Embeddings_en/sharded_2:0' shape=(35297, 320) dtype=float32_ref> because it is a reference variable. It may not be visible to training APIs. If this is a problem, consider rebuilding the SavedModel after running tf.compat.v1.enable_resource_variables().\n"
          ],
          "name": "stderr"
        },
        {
          "output_type": "stream",
          "text": [
            "WARNING:tensorflow:Unable to create a python object for variable <tf.Variable 'Embeddings_en/sharded_3:0' shape=(35297, 320) dtype=float32_ref> because it is a reference variable. It may not be visible to training APIs. If this is a problem, consider rebuilding the SavedModel after running tf.compat.v1.enable_resource_variables().\n"
          ],
          "name": "stdout"
        },
        {
          "output_type": "stream",
          "text": [
            "WARNING:tensorflow:Unable to create a python object for variable <tf.Variable 'Embeddings_en/sharded_3:0' shape=(35297, 320) dtype=float32_ref> because it is a reference variable. It may not be visible to training APIs. If this is a problem, consider rebuilding the SavedModel after running tf.compat.v1.enable_resource_variables().\n"
          ],
          "name": "stderr"
        },
        {
          "output_type": "stream",
          "text": [
            "WARNING:tensorflow:Unable to create a python object for variable <tf.Variable 'Embeddings_en/sharded_4:0' shape=(35297, 320) dtype=float32_ref> because it is a reference variable. It may not be visible to training APIs. If this is a problem, consider rebuilding the SavedModel after running tf.compat.v1.enable_resource_variables().\n"
          ],
          "name": "stdout"
        },
        {
          "output_type": "stream",
          "text": [
            "WARNING:tensorflow:Unable to create a python object for variable <tf.Variable 'Embeddings_en/sharded_4:0' shape=(35297, 320) dtype=float32_ref> because it is a reference variable. It may not be visible to training APIs. If this is a problem, consider rebuilding the SavedModel after running tf.compat.v1.enable_resource_variables().\n"
          ],
          "name": "stderr"
        },
        {
          "output_type": "stream",
          "text": [
            "WARNING:tensorflow:Unable to create a python object for variable <tf.Variable 'Embeddings_en/sharded_0:0' shape=(35297, 320) dtype=float32_ref> because it is a reference variable. It may not be visible to training APIs. If this is a problem, consider rebuilding the SavedModel after running tf.compat.v1.enable_resource_variables().\n"
          ],
          "name": "stdout"
        },
        {
          "output_type": "stream",
          "text": [
            "WARNING:tensorflow:Unable to create a python object for variable <tf.Variable 'Embeddings_en/sharded_0:0' shape=(35297, 320) dtype=float32_ref> because it is a reference variable. It may not be visible to training APIs. If this is a problem, consider rebuilding the SavedModel after running tf.compat.v1.enable_resource_variables().\n"
          ],
          "name": "stderr"
        },
        {
          "output_type": "stream",
          "text": [
            "WARNING:tensorflow:Unable to create a python object for variable <tf.Variable 'Embeddings_en/sharded_1:0' shape=(35297, 320) dtype=float32_ref> because it is a reference variable. It may not be visible to training APIs. If this is a problem, consider rebuilding the SavedModel after running tf.compat.v1.enable_resource_variables().\n"
          ],
          "name": "stdout"
        },
        {
          "output_type": "stream",
          "text": [
            "WARNING:tensorflow:Unable to create a python object for variable <tf.Variable 'Embeddings_en/sharded_1:0' shape=(35297, 320) dtype=float32_ref> because it is a reference variable. It may not be visible to training APIs. If this is a problem, consider rebuilding the SavedModel after running tf.compat.v1.enable_resource_variables().\n"
          ],
          "name": "stderr"
        },
        {
          "output_type": "stream",
          "text": [
            "WARNING:tensorflow:Unable to create a python object for variable <tf.Variable 'Embeddings_en/sharded_2:0' shape=(35297, 320) dtype=float32_ref> because it is a reference variable. It may not be visible to training APIs. If this is a problem, consider rebuilding the SavedModel after running tf.compat.v1.enable_resource_variables().\n"
          ],
          "name": "stdout"
        },
        {
          "output_type": "stream",
          "text": [
            "WARNING:tensorflow:Unable to create a python object for variable <tf.Variable 'Embeddings_en/sharded_2:0' shape=(35297, 320) dtype=float32_ref> because it is a reference variable. It may not be visible to training APIs. If this is a problem, consider rebuilding the SavedModel after running tf.compat.v1.enable_resource_variables().\n"
          ],
          "name": "stderr"
        },
        {
          "output_type": "stream",
          "text": [
            "WARNING:tensorflow:Unable to create a python object for variable <tf.Variable 'Embeddings_en/sharded_3:0' shape=(35297, 320) dtype=float32_ref> because it is a reference variable. It may not be visible to training APIs. If this is a problem, consider rebuilding the SavedModel after running tf.compat.v1.enable_resource_variables().\n"
          ],
          "name": "stdout"
        },
        {
          "output_type": "stream",
          "text": [
            "WARNING:tensorflow:Unable to create a python object for variable <tf.Variable 'Embeddings_en/sharded_3:0' shape=(35297, 320) dtype=float32_ref> because it is a reference variable. It may not be visible to training APIs. If this is a problem, consider rebuilding the SavedModel after running tf.compat.v1.enable_resource_variables().\n"
          ],
          "name": "stderr"
        },
        {
          "output_type": "stream",
          "text": [
            "WARNING:tensorflow:Unable to create a python object for variable <tf.Variable 'Embeddings_en/sharded_4:0' shape=(35297, 320) dtype=float32_ref> because it is a reference variable. It may not be visible to training APIs. If this is a problem, consider rebuilding the SavedModel after running tf.compat.v1.enable_resource_variables().\n"
          ],
          "name": "stdout"
        },
        {
          "output_type": "stream",
          "text": [
            "WARNING:tensorflow:Unable to create a python object for variable <tf.Variable 'Embeddings_en/sharded_4:0' shape=(35297, 320) dtype=float32_ref> because it is a reference variable. It may not be visible to training APIs. If this is a problem, consider rebuilding the SavedModel after running tf.compat.v1.enable_resource_variables().\n"
          ],
          "name": "stderr"
        }
      ]
    },
    {
      "cell_type": "code",
      "metadata": {
        "id": "HtJ0O9pJwV5I"
      },
      "source": [
        "from keras import backend as K\n",
        "\n",
        "def recall_m(y_true, y_pred):\n",
        "    true_positives = K.sum(K.round(K.clip(y_true * y_pred, 0, 1)))\n",
        "    possible_positives = K.sum(K.round(K.clip(y_true, 0, 1)))\n",
        "    recall = true_positives / (possible_positives + K.epsilon())\n",
        "    return recall\n",
        "\n",
        "def precision_m(y_true, y_pred):\n",
        "    true_positives = K.sum(K.round(K.clip(y_true * y_pred, 0, 1)))\n",
        "    predicted_positives = K.sum(K.round(K.clip(y_pred, 0, 1)))\n",
        "    precision = true_positives / (predicted_positives + K.epsilon())\n",
        "    return precision\n",
        "\n",
        "def f1_m(y_true, y_pred):\n",
        "    precision = precision_m(y_true, y_pred)\n",
        "    recall = recall_m(y_true, y_pred)\n",
        "    return 2*((precision*recall)/(precision+recall+K.epsilon()))"
      ],
      "execution_count": null,
      "outputs": []
    },
    {
      "cell_type": "code",
      "metadata": {
        "colab": {
          "base_uri": "https://localhost:8080/"
        },
        "id": "LjyQgaQU9O4h",
        "outputId": "e06245ce-c554-49d5-8754-c8d265e92a7e"
      },
      "source": [
        "DROPOUT = 0.1\n",
        "\n",
        "# Taking the question1 as input and creating a embedding for each question before feed it to neural network\n",
        "q1 = layers.Input(shape=(1,), dtype=tf.string)\n",
        "embedding_q1 = layers.Lambda(UniversalEmbedding, output_shape=(512,))(q1)\n",
        "print(embedding_q1)\n",
        "# Taking the question2 and doing the same thing mentioned above, using the lambda function\n",
        "q2 = layers.Input(shape=(1,), dtype=tf.string)\n",
        "embedding_q2 = layers.Lambda(UniversalEmbedding, output_shape=(512,))(q2)\n",
        "\n",
        "# Concatenating the both input layer\n",
        "merged = layers.concatenate([embedding_q1, embedding_q2])\n",
        "merged = layers.Dense(200, activation='relu')(merged)\n",
        "merged = layers.Dropout(DROPOUT)(merged)\n",
        "\n",
        "# Normalizing the input layer,applying dense and dropout  layer for fully connected model and to avoid overfitting \n",
        "merged = layers.BatchNormalization()(merged)\n",
        "merged = layers.Dense(200, activation='relu')(merged)\n",
        "merged = layers.Dropout(DROPOUT)(merged)\n",
        "\n",
        "merged = layers.BatchNormalization()(merged)\n",
        "merged = layers.Dense(200, activation='relu')(merged)\n",
        "merged = layers.Dropout(DROPOUT)(merged)\n",
        "\n",
        "merged = layers.BatchNormalization()(merged)\n",
        "merged = layers.Dense(200, activation='relu')(merged)\n",
        "merged = layers.Dropout(DROPOUT)(merged)\n",
        "\n",
        "# Using the Sigmoid as the activation function and binary crossentropy for binary classifcation as 0 or 1\n",
        "merged = layers.BatchNormalization()(merged)\n",
        "pred = layers.Dense(2, activation='sigmoid')(merged)\n",
        "model = Model(inputs=[q1,q2], outputs=pred)\n",
        "model.compile(loss='binary_crossentropy', optimizer='adam', metrics=['acc',f1_m,precision_m, recall_m], run_eagerly=None)\n",
        "model.summary()"
      ],
      "execution_count": null,
      "outputs": [
        {
          "output_type": "stream",
          "text": [
            "Tensor(\"lambda/keras_layer/StatefulPartitionedCall:0\", shape=(None, 512), dtype=float32)\n",
            "Model: \"functional_1\"\n",
            "__________________________________________________________________________________________________\n",
            "Layer (type)                    Output Shape         Param #     Connected to                     \n",
            "==================================================================================================\n",
            "input_1 (InputLayer)            [(None, 1)]          0                                            \n",
            "__________________________________________________________________________________________________\n",
            "input_2 (InputLayer)            [(None, 1)]          0                                            \n",
            "__________________________________________________________________________________________________\n",
            "lambda (Lambda)                 (None, 512)          0           input_1[0][0]                    \n",
            "__________________________________________________________________________________________________\n",
            "lambda_1 (Lambda)               (None, 512)          0           input_2[0][0]                    \n",
            "__________________________________________________________________________________________________\n",
            "concatenate (Concatenate)       (None, 1024)         0           lambda[0][0]                     \n",
            "                                                                 lambda_1[0][0]                   \n",
            "__________________________________________________________________________________________________\n",
            "dense (Dense)                   (None, 200)          205000      concatenate[0][0]                \n",
            "__________________________________________________________________________________________________\n",
            "dropout (Dropout)               (None, 200)          0           dense[0][0]                      \n",
            "__________________________________________________________________________________________________\n",
            "batch_normalization (BatchNorma (None, 200)          800         dropout[0][0]                    \n",
            "__________________________________________________________________________________________________\n",
            "dense_1 (Dense)                 (None, 200)          40200       batch_normalization[0][0]        \n",
            "__________________________________________________________________________________________________\n",
            "dropout_1 (Dropout)             (None, 200)          0           dense_1[0][0]                    \n",
            "__________________________________________________________________________________________________\n",
            "batch_normalization_1 (BatchNor (None, 200)          800         dropout_1[0][0]                  \n",
            "__________________________________________________________________________________________________\n",
            "dense_2 (Dense)                 (None, 200)          40200       batch_normalization_1[0][0]      \n",
            "__________________________________________________________________________________________________\n",
            "dropout_2 (Dropout)             (None, 200)          0           dense_2[0][0]                    \n",
            "__________________________________________________________________________________________________\n",
            "batch_normalization_2 (BatchNor (None, 200)          800         dropout_2[0][0]                  \n",
            "__________________________________________________________________________________________________\n",
            "dense_3 (Dense)                 (None, 200)          40200       batch_normalization_2[0][0]      \n",
            "__________________________________________________________________________________________________\n",
            "dropout_3 (Dropout)             (None, 200)          0           dense_3[0][0]                    \n",
            "__________________________________________________________________________________________________\n",
            "batch_normalization_3 (BatchNor (None, 200)          800         dropout_3[0][0]                  \n",
            "__________________________________________________________________________________________________\n",
            "dense_4 (Dense)                 (None, 2)            402         batch_normalization_3[0][0]      \n",
            "==================================================================================================\n",
            "Total params: 329,202\n",
            "Trainable params: 327,602\n",
            "Non-trainable params: 1,600\n",
            "__________________________________________________________________________________________________\n"
          ],
          "name": "stdout"
        }
      ]
    },
    {
      "cell_type": "code",
      "metadata": {
        "id": "nH5nzvkY9Yo9"
      },
      "source": [
        "q1= df.question1.tolist()\n",
        "q2= df.question2.tolist()\n",
        "labels= df.is_duplicate.tolist()"
      ],
      "execution_count": null,
      "outputs": []
    },
    {
      "cell_type": "code",
      "metadata": {
        "id": "zdXbFVg8HHcC"
      },
      "source": [
        "from sklearn.model_selection import train_test_split\n",
        "X1 = df['question1']\n",
        "X2 = df['question2']\n",
        "y = df['is_duplicate']\n",
        "# Using the sklearn to split data in question1 and question2 train and test in the ration 80-20 %\n",
        "X1_train, X1_test,X2_train, X2_test, y_train, y_test = train_test_split(X1, X2, y, test_size=0.2, random_state=42)\n",
        "\n",
        "train_q1 = X1_train.tolist()\n",
        "train_q1 = np.array(train_q1, dtype=object)[:, np.newaxis]\n",
        "train_q2 = X2_train.tolist()\n",
        "train_q2 = np.array(train_q2, dtype=object)[:, np.newaxis]\n",
        "\n",
        "train_labels = np.asarray(pd.get_dummies(y_train), dtype = np.int8)\n",
        "\n",
        "test_q1 = X1_test.tolist()\n",
        "test_q1 = np.array(test_q1, dtype=object)[:, np.newaxis]\n",
        "test_q2 = X2_test.tolist()\n",
        "test_q2 = np.array(test_q2, dtype=object)[:, np.newaxis]\n",
        "\n",
        "test_labels = np.asarray(pd.get_dummies(y_test), dtype = np.int8)"
      ],
      "execution_count": null,
      "outputs": []
    },
    {
      "cell_type": "code",
      "metadata": {
        "colab": {
          "background_save": true,
          "base_uri": "https://localhost:8080/"
        },
        "id": "fnzET4cwHMk6",
        "outputId": "84434ee7-b08a-4354-a92b-fc01ba32ad84"
      },
      "source": [
        "from keras.callbacks import ModelCheckpoint\n",
        "  \n",
        "filepath=\"drive/My Drive/Colab Notebooks/Northout/model-{epoch:02d}.hdf5\"\n",
        "checkpoint = ModelCheckpoint(filepath, monitor='val_loss', verbose=0, save_best_only=False, save_weights_only=True, mode='auto', period=1)\n",
        "callbacks_list = [checkpoint]\n",
        "history = model.fit([train_q1, train_q2], \n",
        "        train_labels,\n",
        "        validation_data=([test_q1, test_q2], test_labels),\n",
        "        epochs=20,\n",
        "        batch_size=512, callbacks=callbacks_list)\n",
        "model.save(f'final_model_1.h5')"
      ],
      "execution_count": null,
      "outputs": [
        {
          "output_type": "stream",
          "text": [
            "WARNING:tensorflow:`period` argument is deprecated. Please use `save_freq` to specify the frequency in number of batches seen.\n"
          ],
          "name": "stdout"
        },
        {
          "output_type": "stream",
          "text": [
            "WARNING:tensorflow:`period` argument is deprecated. Please use `save_freq` to specify the frequency in number of batches seen.\n"
          ],
          "name": "stderr"
        },
        {
          "output_type": "stream",
          "text": [
            "Epoch 1/20\n",
            "632/632 [==============================] - 410s 649ms/step - loss: 0.4745 - acc: 0.7651 - f1_m: 0.7615 - precision_m: 0.7618 - recall_m: 0.7613 - val_loss: 0.4050 - val_acc: 0.8034 - val_f1_m: 0.8030 - val_precision_m: 0.8031 - val_recall_m: 0.8029\n",
            "Epoch 2/20\n",
            "632/632 [==============================] - 411s 651ms/step - loss: 0.3914 - acc: 0.8125 - f1_m: 0.8124 - precision_m: 0.8123 - recall_m: 0.8126 - val_loss: 0.3765 - val_acc: 0.8216 - val_f1_m: 0.8218 - val_precision_m: 0.8213 - val_recall_m: 0.8223\n",
            "Epoch 3/20\n",
            "632/632 [==============================] - 411s 651ms/step - loss: 0.3673 - acc: 0.8269 - f1_m: 0.8269 - precision_m: 0.8268 - recall_m: 0.8269 - val_loss: 0.3690 - val_acc: 0.8245 - val_f1_m: 0.8245 - val_precision_m: 0.8245 - val_recall_m: 0.8244\n",
            "Epoch 4/20\n",
            "632/632 [==============================] - 409s 648ms/step - loss: 0.3544 - acc: 0.8342 - f1_m: 0.8343 - precision_m: 0.8342 - recall_m: 0.8343 - val_loss: 0.3549 - val_acc: 0.8325 - val_f1_m: 0.8326 - val_precision_m: 0.8328 - val_recall_m: 0.8325\n",
            "Epoch 5/20\n",
            "632/632 [==============================] - 410s 649ms/step - loss: 0.3423 - acc: 0.8413 - f1_m: 0.8413 - precision_m: 0.8413 - recall_m: 0.8414 - val_loss: 0.3490 - val_acc: 0.8359 - val_f1_m: 0.8358 - val_precision_m: 0.8359 - val_recall_m: 0.8357\n",
            "Epoch 6/20\n",
            "632/632 [==============================] - 409s 648ms/step - loss: 0.3333 - acc: 0.8466 - f1_m: 0.8466 - precision_m: 0.8466 - recall_m: 0.8467 - val_loss: 0.3444 - val_acc: 0.8398 - val_f1_m: 0.8397 - val_precision_m: 0.8398 - val_recall_m: 0.8397\n",
            "Epoch 7/20\n",
            "632/632 [==============================] - 410s 649ms/step - loss: 0.3250 - acc: 0.8511 - f1_m: 0.8511 - precision_m: 0.8512 - recall_m: 0.8510 - val_loss: 0.3404 - val_acc: 0.8425 - val_f1_m: 0.8426 - val_precision_m: 0.8424 - val_recall_m: 0.8427\n",
            "Epoch 8/20\n",
            "632/632 [==============================] - 410s 649ms/step - loss: 0.3186 - acc: 0.8548 - f1_m: 0.8548 - precision_m: 0.8547 - recall_m: 0.8548 - val_loss: 0.3421 - val_acc: 0.8395 - val_f1_m: 0.8395 - val_precision_m: 0.8397 - val_recall_m: 0.8393\n",
            "Epoch 9/20\n",
            "632/632 [==============================] - 411s 650ms/step - loss: 0.3118 - acc: 0.8580 - f1_m: 0.8580 - precision_m: 0.8581 - recall_m: 0.8580 - val_loss: 0.3429 - val_acc: 0.8413 - val_f1_m: 0.8412 - val_precision_m: 0.8413 - val_recall_m: 0.8412\n",
            "Epoch 10/20\n",
            "632/632 [==============================] - 409s 648ms/step - loss: 0.3056 - acc: 0.8615 - f1_m: 0.8614 - precision_m: 0.8615 - recall_m: 0.8614 - val_loss: 0.3374 - val_acc: 0.8435 - val_f1_m: 0.8434 - val_precision_m: 0.8434 - val_recall_m: 0.8433\n",
            "Epoch 11/20\n",
            "632/632 [==============================] - 410s 649ms/step - loss: 0.2995 - acc: 0.8645 - f1_m: 0.8644 - precision_m: 0.8644 - recall_m: 0.8645 - val_loss: 0.3416 - val_acc: 0.8453 - val_f1_m: 0.8452 - val_precision_m: 0.8453 - val_recall_m: 0.8451\n",
            "Epoch 12/20\n",
            "632/632 [==============================] - 410s 649ms/step - loss: 0.2943 - acc: 0.8675 - f1_m: 0.8674 - precision_m: 0.8675 - recall_m: 0.8674 - val_loss: 0.3377 - val_acc: 0.8449 - val_f1_m: 0.8449 - val_precision_m: 0.8450 - val_recall_m: 0.8449\n",
            "Epoch 13/20\n",
            "632/632 [==============================] - 410s 649ms/step - loss: 0.2895 - acc: 0.8699 - f1_m: 0.8699 - precision_m: 0.8699 - recall_m: 0.8699 - val_loss: 0.3435 - val_acc: 0.8441 - val_f1_m: 0.8441 - val_precision_m: 0.8440 - val_recall_m: 0.8441\n",
            "Epoch 14/20\n",
            "632/632 [==============================] - 410s 648ms/step - loss: 0.2859 - acc: 0.8716 - f1_m: 0.8716 - precision_m: 0.8716 - recall_m: 0.8715 - val_loss: 0.3421 - val_acc: 0.8443 - val_f1_m: 0.8442 - val_precision_m: 0.8442 - val_recall_m: 0.8442\n",
            "Epoch 15/20\n",
            "632/632 [==============================] - 410s 648ms/step - loss: 0.2808 - acc: 0.8747 - f1_m: 0.8747 - precision_m: 0.8747 - recall_m: 0.8747 - val_loss: 0.3420 - val_acc: 0.8452 - val_f1_m: 0.8453 - val_precision_m: 0.8452 - val_recall_m: 0.8453\n",
            "Epoch 16/20\n",
            "632/632 [==============================] - 409s 648ms/step - loss: 0.2779 - acc: 0.8761 - f1_m: 0.8761 - precision_m: 0.8761 - recall_m: 0.8760 - val_loss: 0.3387 - val_acc: 0.8470 - val_f1_m: 0.8470 - val_precision_m: 0.8472 - val_recall_m: 0.8469\n",
            "Epoch 17/20\n",
            "632/632 [==============================] - 409s 647ms/step - loss: 0.2730 - acc: 0.8785 - f1_m: 0.8785 - precision_m: 0.8785 - recall_m: 0.8785 - val_loss: 0.3410 - val_acc: 0.8465 - val_f1_m: 0.8465 - val_precision_m: 0.8465 - val_recall_m: 0.8466\n",
            "Epoch 18/20\n",
            "632/632 [==============================] - 410s 649ms/step - loss: 0.2697 - acc: 0.8806 - f1_m: 0.8806 - precision_m: 0.8806 - recall_m: 0.8806 - val_loss: 0.3451 - val_acc: 0.8459 - val_f1_m: 0.8459 - val_precision_m: 0.8459 - val_recall_m: 0.8459\n",
            "Epoch 19/20\n",
            "632/632 [==============================] - 410s 649ms/step - loss: 0.2660 - acc: 0.8823 - f1_m: 0.8822 - precision_m: 0.8823 - recall_m: 0.8822 - val_loss: 0.3428 - val_acc: 0.8479 - val_f1_m: 0.8479 - val_precision_m: 0.8479 - val_recall_m: 0.8479\n",
            "Epoch 20/20\n",
            "632/632 [==============================] - 408s 646ms/step - loss: 0.2625 - acc: 0.8840 - f1_m: 0.8840 - precision_m: 0.8840 - recall_m: 0.8840 - val_loss: 0.3413 - val_acc: 0.8483 - val_f1_m: 0.8483 - val_precision_m: 0.8482 - val_recall_m: 0.8483\n"
          ],
          "name": "stdout"
        }
      ]
    },
    {
      "cell_type": "code",
      "metadata": {
        "id": "m0uKY4_px--3",
        "colab": {
          "base_uri": "https://localhost:8080/"
        },
        "outputId": "37abcf23-94fd-44ff-cc05-f05311ec50c8"
      },
      "source": [
        "\n",
        "import numpy as np\n",
        "import tensorflow as tf\n",
        "from keras import backend as K\n",
        "from keras.models import load_model\n",
        "# q1 = \"why India is more successful in cricket than hockey?\"  # player related\n",
        "# q2 = \"why in India cricket is more famous than hockey?\"      # audience related\n",
        "q1 = \"Were the Clintons paid by the Clinton Foundation?\"\n",
        "q2 = \"Was Chelsea Clinton really paid \\$700,000 a year working for the Clinton Foundation ?\"\n",
        "q1 = np.array([[q1],[q1]])\n",
        "q2 = np.array([[q2],[q2]])\n",
        "\n",
        "\n",
        "model = load_model('drive/My Drive/Colab Notebooks/Northout/final_model.h5')  \n",
        "print(model)\n",
        "# predicts = model.predict([q1, q2], verbose=0)\n",
        "# predict_logits = predicts.argmax(axis=1)\n",
        "# print(\"----FINAL RESULT----\")\n",
        "# if(predict_logits[0] == 1):\n",
        "#     print(\"Given Question Pair is Similar\")\n",
        "# else:\n",
        "#     print(\"Given Question Pair is not Similar\")"
      ],
      "execution_count": null,
      "outputs": [
        {
          "output_type": "stream",
          "text": [
            "<tensorflow.python.keras.engine.functional.Functional object at 0x7f0b6aead588>\n"
          ],
          "name": "stdout"
        }
      ]
    },
    {
      "cell_type": "code",
      "metadata": {
        "colab": {
          "base_uri": "https://localhost:8080/"
        },
        "id": "Y8wFUHmuRUkW",
        "outputId": "cf4eeb0b-41e0-4ea9-9a5d-9ddb6efe7252"
      },
      "source": [
        "print(model)"
      ],
      "execution_count": null,
      "outputs": [
        {
          "output_type": "stream",
          "text": [
            "<tensorflow.python.keras.engine.functional.Functional object at 0x7f0b6aead588>\n"
          ],
          "name": "stdout"
        }
      ]
    }
  ]
}